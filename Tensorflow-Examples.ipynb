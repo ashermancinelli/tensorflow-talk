{
 "cells": [
  {
   "cell_type": "markdown",
   "metadata": {},
   "source": [
    "## Asher Mancinelli\n",
    "### Tensorflow Examples"
   ]
  },
  {
   "cell_type": "code",
   "execution_count": 58,
   "metadata": {},
   "outputs": [],
   "source": [
    "import tensorflow as tf\n",
    "import numpy as np\n",
    "import random\n",
    "import math\n",
    "import sklearn\n",
    "\n",
    "import matplotlib.pyplot as plt\n",
    "%matplotlib inline"
   ]
  },
  {
   "cell_type": "markdown",
   "metadata": {},
   "source": [
    "## Data Creation\n",
    "\n",
    "Here we create our dataset which spreads data over four sections. The neural network will then learn the categories through the training data, and we will feed new data into it to see how well it learned the relationships. \n",
    "The data is a random set of data points within a quadrant of the cartesian plane, each added with some random noise to introduce overlap of the categories. "
   ]
  },
  {
   "cell_type": "code",
   "execution_count": 142,
   "metadata": {},
   "outputs": [],
   "source": [
    "samples = 100\n",
    "x1 = [ random.random()*10 + random.random()*4 - 2 for i in range(samples) ]\n",
    "y1 = [ random.random()*10 + random.random()*4 - 2 for i in range(samples) ]\n",
    "\n",
    "x2 = [ random.random()*-10 + random.random()*4 - 2 for i in range(samples) ]\n",
    "y2 = [ random.random()*10 + random.random()*4 - 2 for i in range(samples) ]\n",
    "\n",
    "x3 = [ random.random()*10 + random.random()*4 - 2 for i in range(samples) ]\n",
    "y3 = [ random.random()*-10 + random.random()*4 - 2 for i in range(samples) ]\n",
    "\n",
    "x4 = [ random.random()*-10 + random.random()*4 - 2 for i in range(samples) ]\n",
    "y4 = [ random.random()*-10 + random.random()*4 - 2 for i in range(samples) ]\n",
    "\n",
    "data = []\n",
    "labels = []\n",
    "category = 0\n",
    "for i, j in [(x1, y1), (x2, y2), (x3, y3), (x4, y4)]:\n",
    "    data += [ (k, l) for k, l in zip(i, j) ]\n",
    "    labels += [ category for index in range(len(i)) ]\n",
    "    category += 1\n",
    "    \n",
    "one_hot = []\n",
    "for i in labels:\n",
    "    temp = np.zeros(4)\n",
    "    temp[i] = 1\n",
    "    one_hot.append(temp)\n",
    "    \n",
    "labels = one_hot"
   ]
  },
  {
   "cell_type": "code",
   "execution_count": 143,
   "metadata": {},
   "outputs": [
    {
     "data": {
      "image/png": "[encoded data removed]",
      "text/plain": [
       "<Figure size 432x288 with 1 Axes>"
      ]
     },
     "metadata": {},
     "output_type": "display_data"
    }
   ],
   "source": [
    "plt.scatter(x1, y1, color='red', label='Category 1')\n",
    "plt.scatter(x2, y1, color='blue', label='Category 2')\n",
    "plt.scatter(x3, y3, color='green', label='Category 3')\n",
    "plt.scatter(x4, y4, color='magenta', label='Category 4')\n",
    "\n",
    "plt.legend(loc='best')\n",
    "plt.show()"
   ]
  },
  {
   "cell_type": "markdown",
   "metadata": {},
   "source": [
    "Here we can see how the categories have quite a bit of overlap. This is where neural networks thrive; where there is a lot of data to look at, but the solution is quite fuzzy. This network will take in an X and a Y coordinate, and will return its prediction of the category that data point falls into. Next, we create the tensorflow graph we'll be using as our neural network. \n",
    "\n",
    "## Graph Creation"
   ]
  },
  {
   "cell_type": "markdown",
   "metadata": {},
   "source": [
    "The shape of x is 2 becuase the input data is shaped (X, Y), therefore x is one list with two elements, and has shape (2, ). y has shape 4 because there are four possible categories, and y is formatted as a `one-hot array` which means that one element of the array is 1 and all other elements are 0. "
   ]
  },
  {
   "cell_type": "code",
   "execution_count": 137,
   "metadata": {},
   "outputs": [],
   "source": [
    "batch_size = 10\n",
    "\n",
    "x = tf.placeholder(tf.float32, shape=(batch_size, 2))\n",
    "y = tf.placeholder(tf.float32, shape=(batch_size, 4))"
   ]
  },
  {
   "cell_type": "code",
   "execution_count": 149,
   "metadata": {},
   "outputs": [],
   "source": [
    "nn = tf.layers.dense(x, 32, activation=tf.nn.relu)\n",
    "nn = tf.layers.dense(nn, 64, activation=tf.nn.relu)\n",
    "nn = tf.layers.dense(nn, 64, activation=tf.nn.relu)\n",
    "nn = tf.layers.dense(nn, 32, activation=tf.nn.relu)\n",
    "nn = tf.layers.dense(nn, 4)\n",
    "pred = tf.nn.softmax(nn)\n",
    "\n",
    "loss_op = tf.reduce_mean(tf.nn.sparse_softmax_cross_entropy_with_logits(\n",
    "    logits=nn, labels=tf.argmax(tf.cast(y, dtype=tf.int32), axis=1)))\n",
    "\n",
    "optimizer = tf.train.GradientDescentOptimizer(learning_rate=1e-4)\n",
    "train_op = optimizer.minimize(loss_op)\n",
    "\n",
    "init_op = tf.global_variables_initializer()"
   ]
  },
  {
   "cell_type": "code",
   "execution_count": 172,
   "metadata": {},
   "outputs": [
    {
     "name": "stdout",
     "output_type": "stream",
     "text": [
      "Cost for this epoch: 58.29567068815231\n",
      "Cost for this epoch: 57.28080302476883\n",
      "Cost for this epoch: 56.302181363105774\n",
      "Cost for this epoch: 55.35661631822586\n",
      "Cost for this epoch: 54.44581651687622\n",
      "Cost for this epoch: 53.56326347589493\n",
      "Cost for this epoch: 52.72414189577103\n",
      "Cost for this epoch: 51.91747343540192\n",
      "Cost for this epoch: 51.13947421312332\n",
      "Cost for this epoch: 50.38907039165497\n",
      "Cost for this epoch: 49.665003418922424\n",
      "Cost for this epoch: 48.96806538105011\n",
      "Cost for this epoch: 48.292544424533844\n",
      "Cost for this epoch: 47.64794969558716\n",
      "Cost for this epoch: 47.03727167844772\n",
      "Cost for this epoch: 46.46229076385498\n",
      "Cost for this epoch: 45.913152277469635\n",
      "Cost for this epoch: 45.38291108608246\n",
      "Cost for this epoch: 44.866884648799896\n",
      "Cost for this epoch: 44.36399132013321\n",
      "Cost for this epoch: 43.877576768398285\n",
      "Cost for this epoch: 43.40657198429108\n",
      "Cost for this epoch: 42.949010372161865\n",
      "Cost for this epoch: 42.50214284658432\n",
      "Cost for this epoch: 42.06589186191559\n",
      "Cost for this epoch: 41.64167231321335\n",
      "Cost for this epoch: 41.22652292251587\n",
      "Cost for this epoch: 40.82058823108673\n",
      "Cost for this epoch: 40.421498000621796\n",
      "Cost for this epoch: 40.02796006202698\n",
      "Cost for this epoch: 39.64086651802063\n",
      "Cost for this epoch: 39.26123881340027\n",
      "Cost for this epoch: 38.88941878080368\n",
      "Cost for this epoch: 38.52408331632614\n",
      "Cost for this epoch: 38.16457146406174\n",
      "Cost for this epoch: 37.80800503492355\n",
      "Cost for this epoch: 37.453017830848694\n",
      "Cost for this epoch: 37.10190808773041\n",
      "Cost for this epoch: 36.752621114254\n",
      "Cost for this epoch: 36.40664601325989\n",
      "Cost for this epoch: 36.063061594963074\n",
      "Cost for this epoch: 35.721430122852325\n",
      "Cost for this epoch: 35.38605725765228\n",
      "Cost for this epoch: 35.057822585105896\n",
      "Cost for this epoch: 34.73673760890961\n",
      "Cost for this epoch: 34.42289227247238\n",
      "Cost for this epoch: 34.11404061317444\n",
      "Cost for this epoch: 33.809472501277924\n",
      "Cost for this epoch: 33.51051872968674\n",
      "Cost for this epoch: 33.216930866241455\n",
      "Cost for this epoch: 32.92858701944351\n",
      "Cost for this epoch: 32.645266592502594\n",
      "Cost for this epoch: 32.36625161767006\n",
      "Cost for this epoch: 32.09252426028252\n",
      "Cost for this epoch: 31.823627680540085\n",
      "Cost for this epoch: 31.558978110551834\n",
      "Cost for this epoch: 31.298897624015808\n",
      "Cost for this epoch: 31.04277789592743\n",
      "Cost for this epoch: 30.791067242622375\n",
      "Cost for this epoch: 30.543737709522247\n",
      "Cost for this epoch: 30.300460755825043\n",
      "Cost for this epoch: 30.061472415924072\n",
      "Cost for this epoch: 29.82646816968918\n",
      "Cost for this epoch: 29.595218420028687\n",
      "Cost for this epoch: 29.367241382598877\n",
      "Cost for this epoch: 29.143167227506638\n",
      "Cost for this epoch: 28.921411722898483\n",
      "Cost for this epoch: 28.70278975367546\n",
      "Cost for this epoch: 28.48699650168419\n",
      "Cost for this epoch: 28.274205833673477\n",
      "Cost for this epoch: 28.06427037715912\n",
      "Cost for this epoch: 27.856974095106125\n",
      "Cost for this epoch: 27.65272170305252\n",
      "Cost for this epoch: 27.45082676410675\n",
      "Cost for this epoch: 27.252032041549683\n",
      "Cost for this epoch: 27.056263148784637\n",
      "Cost for this epoch: 26.86324182152748\n",
      "Cost for this epoch: 26.672372579574585\n",
      "Cost for this epoch: 26.48415845632553\n",
      "Cost for this epoch: 26.29828041791916\n",
      "Cost for this epoch: 26.11505514383316\n",
      "Cost for this epoch: 25.934648096561432\n",
      "Cost for this epoch: 25.75641766190529\n",
      "Cost for this epoch: 25.580439686775208\n",
      "Cost for this epoch: 25.406490594148636\n",
      "Cost for this epoch: 25.23456421494484\n",
      "Cost for this epoch: 25.06518316268921\n",
      "Cost for this epoch: 24.897271990776062\n",
      "Cost for this epoch: 24.731165796518326\n",
      "Cost for this epoch: 24.56726109981537\n",
      "Cost for this epoch: 24.40512043237686\n",
      "Cost for this epoch: 24.244885176420212\n",
      "Cost for this epoch: 24.086753338575363\n",
      "Cost for this epoch: 23.93026676774025\n",
      "Cost for this epoch: 23.77511864900589\n",
      "Cost for this epoch: 23.622064232826233\n",
      "Cost for this epoch: 23.470658361911774\n",
      "Cost for this epoch: 23.32070901989937\n",
      "Cost for this epoch: 23.172287344932556\n",
      "Cost for this epoch: 23.025387227535248\n"
     ]
    }
   ],
   "source": [
    "num_epochs = 100\n",
    "\n",
    "with tf.Session() as sess:\n",
    "    sess.run(init_op)\n",
    "    for _ in range(num_epochs):\n",
    "        cost = 0\n",
    "        for i in range((len(data) // batch_size) - 1):\n",
    "            x_batch = data[i*batch_size : (i+1)*batch_size]\n",
    "            y_batch = labels[i*batch_size : (i+1)*batch_size]\n",
    "            \n",
    "            _, c = sess.run([train_op, loss_op], {x: x_batch, y: y_batch})\n",
    "            cost += c\n",
    "            \n",
    "        print(f'Cost for this epoch: {cost}')"
   ]
  },
  {
   "cell_type": "code",
   "execution_count": 179,
   "metadata": {},
   "outputs": [
    {
     "name": "stdout",
     "output_type": "stream",
     "text": [
      "[0 0 3 0 3 0 0 0 0 0]\n"
     ]
    }
   ],
   "source": [
    "test_size = 10\n",
    "x_test = [ random.random()*20 - 10 for i in range(test_size)]\n",
    "y_test = [ random.random()*20 - 10 for i in range(test_size)]\n",
    "pred_data = [(i, j) for i, j in zip(x_test, y_test)]\n",
    "\n",
    "with tf.Session() as sess:\n",
    "    sess.run(tf.global_variables_initializer())\n",
    "    predictions = sess.run(pred, {x: pred_data})\n",
    "    predictions = sess.run(tf.argmax(predictions, axis=1))\n",
    "    print(predictions)"
   ]
  },
  {
   "cell_type": "code",
   "execution_count": 180,
   "metadata": {},
   "outputs": [
    {
     "data": {
      "image/png": "[encoded data removed]",
      "text/plain": [
       "<Figure size 432x288 with 1 Axes>"
      ]
     },
     "metadata": {},
     "output_type": "display_data"
    }
   ],
   "source": [
    "plt.scatter(x_test, y_test)\n",
    "plt.ylim(-10, 10)\n",
    "plt.xlim(-10, 10)\n",
    "plt.show()"
   ]
  },
  {
   "cell_type": "code",
   "execution_count": null,
   "metadata": {},
   "outputs": [],
   "source": []
  }
 ],
 "metadata": {
  "celltoolbar": "Raw Cell Format",
  "kernelspec": {
   "display_name": "Python 3",
   "language": "python",
   "name": "python3"
  },
  "language_info": {
   "codemirror_mode": {
    "name": "ipython",
    "version": 3
   },
   "file_extension": ".py",
   "mimetype": "text/x-python",
   "name": "python",
   "nbconvert_exporter": "python",
   "pygments_lexer": "ipython3",
   "version": "3.6.6"
  }
 },
 "nbformat": 4,
 "nbformat_minor": 2
}
