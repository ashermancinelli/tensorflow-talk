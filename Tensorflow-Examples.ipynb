{
 "cells": [
  {
   "cell_type": "markdown",
   "metadata": {},
   "source": [
    "## Asher Mancinelli\n",
    "### Tensorflow Examples"
   ]
  },
  {
   "cell_type": "code",
   "execution_count": 1,
   "metadata": {},
   "outputs": [],
   "source": [
    "import tensorflow as tf\n",
    "import numpy as np\n",
    "import random\n",
    "import math\n",
    "import sklearn\n",
    "\n",
    "import matplotlib.pyplot as plt\n",
    "%matplotlib inline"
   ]
  },
  {
   "cell_type": "markdown",
   "metadata": {},
   "source": [
    "## Data Creation\n",
    "\n",
    "Here we create our dataset which spreads data over four sections. The neural network will then learn the categories through the training data, and we will feed new data into it to see how well it learned the relationships. \n",
    "The data is a random set of data points within a quadrant of the cartesian plane, each added with some random noise to introduce overlap of the categories. "
   ]
  },
  {
   "cell_type": "code",
   "execution_count": 2,
   "metadata": {},
   "outputs": [],
   "source": [
    "samples = 100\n",
    "x1 = [ random.random()*10 + random.random()*4 - 2 for i in range(samples) ]\n",
    "y1 = [ random.random()*10 + random.random()*4 - 2 for i in range(samples) ]\n",
    "\n",
    "x2 = [ random.random()*-10 + random.random()*4 - 2 for i in range(samples) ]\n",
    "y2 = [ random.random()*10 + random.random()*4 - 2 for i in range(samples) ]\n",
    "\n",
    "x3 = [ random.random()*10 + random.random()*4 - 2 for i in range(samples) ]\n",
    "y3 = [ random.random()*-10 + random.random()*4 - 2 for i in range(samples) ]\n",
    "\n",
    "x4 = [ random.random()*-10 + random.random()*4 - 2 for i in range(samples) ]\n",
    "y4 = [ random.random()*-10 + random.random()*4 - 2 for i in range(samples) ]\n",
    "\n",
    "data = []\n",
    "labels = []\n",
    "category = 0\n",
    "for i, j in [(x1, y1), (x2, y2), (x3, y3), (x4, y4)]:\n",
    "    data += [ (k, l) for k, l in zip(i, j) ]\n",
    "    labels += [ category for index in range(len(i)) ]\n",
    "    category += 1\n",
    "    \n",
    "one_hot = []\n",
    "for i in labels:\n",
    "    temp = np.zeros(4)\n",
    "    temp[i] = 1\n",
    "    one_hot.append(temp)\n",
    "    \n",
    "labels = one_hot"
   ]
  },
  {
   "cell_type": "code",
   "execution_count": 3,
   "metadata": {},
   "outputs": [
    {
     "data": {
      "image/png": "[encoded data removed]",
      "text/plain": [
       "<Figure size 432x288 with 1 Axes>"
      ]
     },
     "metadata": {},
     "output_type": "display_data"
    }
   ],
   "source": [
    "plt.scatter(x1, y1, color='red', label='Category 1')\n",
    "plt.scatter(x2, y1, color='blue', label='Category 2')\n",
    "plt.scatter(x3, y3, color='green', label='Category 3')\n",
    "plt.scatter(x4, y4, color='magenta', label='Category 4')\n",
    "\n",
    "plt.legend(loc='best')\n",
    "plt.show()"
   ]
  },
  {
   "cell_type": "markdown",
   "metadata": {},
   "source": [
    "Here we can see how the categories have quite a bit of overlap. This is where neural networks thrive; where there is a lot of data to look at, but the solution is quite fuzzy. This network will take in an X and a Y coordinate, and will return its prediction of the category that data point falls into. Next, we create the tensorflow graph we'll be using as our neural network. \n",
    "\n",
    "## Graph Creation"
   ]
  },
  {
   "cell_type": "markdown",
   "metadata": {},
   "source": [
    "The shape of x is 2 becuase the input data is shaped (X, Y), therefore x is one list with two elements, and has shape (2, ). y has shape 4 because there are four possible categories, and y is formatted as a `one-hot array` which means that one element of the array is 1 and all other elements are 0. "
   ]
  },
  {
   "cell_type": "code",
   "execution_count": 4,
   "metadata": {},
   "outputs": [],
   "source": [
    "batch_size = 10\n",
    "\n",
    "x = tf.placeholder(tf.float32, shape=(batch_size, 2))\n",
    "y = tf.placeholder(tf.float32, shape=(batch_size, 4))"
   ]
  },
  {
   "cell_type": "code",
   "execution_count": 5,
   "metadata": {},
   "outputs": [],
   "source": [
    "nn = tf.layers.dense(x, 32, activation=tf.nn.relu)\n",
    "nn = tf.layers.dense(nn, 64, activation=tf.nn.relu)\n",
    "nn = tf.layers.dense(nn, 64, activation=tf.nn.relu)\n",
    "nn = tf.layers.dense(nn, 32, activation=tf.nn.relu)\n",
    "nn = tf.layers.dense(nn, 4)\n",
    "pred = tf.nn.softmax(nn)\n",
    "\n",
    "loss_op = tf.reduce_mean(tf.nn.sparse_softmax_cross_entropy_with_logits(\n",
    "    logits=nn, labels=tf.argmax(tf.cast(y, dtype=tf.int32), axis=1)))\n",
    "\n",
    "optimizer = tf.train.GradientDescentOptimizer(learning_rate=1e-4)\n",
    "train_op = optimizer.minimize(loss_op)\n",
    "\n",
    "init_op = tf.global_variables_initializer()"
   ]
  },
  {
   "cell_type": "code",
   "execution_count": 6,
   "metadata": {},
   "outputs": [
    {
     "name": "stdout",
     "output_type": "stream",
     "text": [
      "Cost for this epoch: 55.816508293151855\n",
      "Cost for this epoch: 54.529937505722046\n",
      "Cost for this epoch: 53.31056845188141\n",
      "Cost for this epoch: 52.15420341491699\n",
      "Cost for this epoch: 51.05906283855438\n",
      "Cost for this epoch: 50.02377665042877\n",
      "Cost for this epoch: 49.045536160469055\n",
      "Cost for this epoch: 48.11952614784241\n",
      "Cost for this epoch: 47.23914158344269\n",
      "Cost for this epoch: 46.393006563186646\n",
      "Cost for this epoch: 45.591663122177124\n",
      "Cost for this epoch: 44.834649324417114\n",
      "Cost for this epoch: 44.11566889286041\n",
      "Cost for this epoch: 43.43479609489441\n",
      "Cost for this epoch: 42.784871995449066\n",
      "Cost for this epoch: 42.16114258766174\n",
      "Cost for this epoch: 41.560625314712524\n",
      "Cost for this epoch: 40.980259239673615\n",
      "Cost for this epoch: 40.4203919172287\n",
      "Cost for this epoch: 39.879365622997284\n",
      "Cost for this epoch: 39.35703182220459\n",
      "Cost for this epoch: 38.855313420295715\n",
      "Cost for this epoch: 38.37385958433151\n",
      "Cost for this epoch: 37.91310405731201\n",
      "Cost for this epoch: 37.471120059490204\n",
      "Cost for this epoch: 37.04446196556091\n",
      "Cost for this epoch: 36.63498693704605\n",
      "Cost for this epoch: 36.244821667671204\n",
      "Cost for this epoch: 35.87134766578674\n",
      "Cost for this epoch: 35.51609939336777\n",
      "Cost for this epoch: 35.180044651031494\n",
      "Cost for this epoch: 34.85647451877594\n",
      "Cost for this epoch: 34.54416459798813\n",
      "Cost for this epoch: 34.24198067188263\n",
      "Cost for this epoch: 33.94810450077057\n",
      "Cost for this epoch: 33.66388475894928\n",
      "Cost for this epoch: 33.387669801712036\n",
      "Cost for this epoch: 33.119020998477936\n",
      "Cost for this epoch: 32.85655254125595\n",
      "Cost for this epoch: 32.600277066230774\n",
      "Cost for this epoch: 32.35046410560608\n",
      "Cost for this epoch: 32.10655057430267\n",
      "Cost for this epoch: 31.86860328912735\n",
      "Cost for this epoch: 31.635901629924774\n",
      "Cost for this epoch: 31.408720940351486\n",
      "Cost for this epoch: 31.185707241296768\n",
      "Cost for this epoch: 30.967195093631744\n",
      "Cost for this epoch: 30.75275605916977\n",
      "Cost for this epoch: 30.543389558792114\n",
      "Cost for this epoch: 30.33843904733658\n",
      "Cost for this epoch: 30.137205719947815\n",
      "Cost for this epoch: 29.940369784832\n",
      "Cost for this epoch: 29.74731433391571\n",
      "Cost for this epoch: 29.557865768671036\n",
      "Cost for this epoch: 29.371980488300323\n",
      "Cost for this epoch: 29.189429104328156\n",
      "Cost for this epoch: 29.00946056842804\n",
      "Cost for this epoch: 28.832076251506805\n",
      "Cost for this epoch: 28.65714892745018\n",
      "Cost for this epoch: 28.485220193862915\n",
      "Cost for this epoch: 28.315723955631256\n",
      "Cost for this epoch: 28.14857017993927\n",
      "Cost for this epoch: 27.983703017234802\n",
      "Cost for this epoch: 27.820690631866455\n",
      "Cost for this epoch: 27.659993708133698\n",
      "Cost for this epoch: 27.501689583063126\n",
      "Cost for this epoch: 27.34577977657318\n",
      "Cost for this epoch: 27.19170790910721\n",
      "Cost for this epoch: 27.039861232042313\n",
      "Cost for this epoch: 26.889922976493835\n",
      "Cost for this epoch: 26.741934031248093\n",
      "Cost for this epoch: 26.595372915267944\n",
      "Cost for this epoch: 26.45075958967209\n",
      "Cost for this epoch: 26.308420956134796\n",
      "Cost for this epoch: 26.16769841313362\n",
      "Cost for this epoch: 26.028901427984238\n",
      "Cost for this epoch: 25.89160531759262\n",
      "Cost for this epoch: 25.755800634622574\n",
      "Cost for this epoch: 25.62116500735283\n",
      "Cost for this epoch: 25.48825454711914\n",
      "Cost for this epoch: 25.356420814990997\n",
      "Cost for this epoch: 25.226246297359467\n",
      "Cost for this epoch: 25.09703904390335\n",
      "Cost for this epoch: 24.96922191977501\n",
      "Cost for this epoch: 24.84230676293373\n",
      "Cost for this epoch: 24.716508477926254\n",
      "Cost for this epoch: 24.59146812558174\n",
      "Cost for this epoch: 24.467336773872375\n",
      "Cost for this epoch: 24.34422755241394\n",
      "Cost for this epoch: 24.22201442718506\n",
      "Cost for this epoch: 24.100495606660843\n",
      "Cost for this epoch: 23.98010790348053\n",
      "Cost for this epoch: 23.860482692718506\n",
      "Cost for this epoch: 23.74184226989746\n",
      "Cost for this epoch: 23.624353140592575\n",
      "Cost for this epoch: 23.507588118314743\n",
      "Cost for this epoch: 23.391350507736206\n",
      "Cost for this epoch: 23.275509536266327\n",
      "Cost for this epoch: 23.15968345105648\n",
      "Cost for this epoch: 23.04362952709198\n"
     ]
    }
   ],
   "source": [
    "num_epochs = 100\n",
    "\n",
    "with tf.Session() as sess:\n",
    "    sess.run(init_op)\n",
    "    for _ in range(num_epochs):\n",
    "        cost = 0\n",
    "        for i in range((len(data) // batch_size) - 1):\n",
    "            x_batch = data[i*batch_size : (i+1)*batch_size]\n",
    "            y_batch = labels[i*batch_size : (i+1)*batch_size]\n",
    "            \n",
    "            _, c = sess.run([train_op, loss_op], {x: x_batch, y: y_batch})\n",
    "            cost += c\n",
    "            \n",
    "        print(f'Cost for this epoch: {cost}')"
   ]
  },
  {
   "cell_type": "code",
   "execution_count": 7,
   "metadata": {},
   "outputs": [
    {
     "name": "stdout",
     "output_type": "stream",
     "text": [
      "[0 3 3 3 0 0 3 3 3 3]\n"
     ]
    }
   ],
   "source": [
    "test_size = 10\n",
    "x_test = [ random.random()*20 - 10 for i in range(test_size)]\n",
    "y_test = [ random.random()*20 - 10 for i in range(test_size)]\n",
    "pred_data = [(i, j) for i, j in zip(x_test, y_test)]\n",
    "\n",
    "with tf.Session() as sess:\n",
    "    sess.run(tf.global_variables_initializer())\n",
    "    predictions = sess.run(pred, {x: pred_data})\n",
    "    predictions = sess.run(tf.argmax(predictions, axis=1))\n",
    "    print(predictions)"
   ]
  },
  {
   "cell_type": "code",
   "execution_count": 8,
   "metadata": {},
   "outputs": [
    {
     "data": {
      "image/png": "[encoded data removed]",
      "text/plain": [
       "<Figure size 432x288 with 1 Axes>"
      ]
     },
     "metadata": {},
     "output_type": "display_data"
    }
   ],
   "source": [
    "plt.scatter(x_test, y_test)\n",
    "plt.ylim(-10, 10)\n",
    "plt.xlim(-10, 10)\n",
    "plt.show()"
   ]
  },
  {
   "cell_type": "code",
   "execution_count": null,
   "metadata": {},
   "outputs": [],
   "source": []
  }
 ],
 "metadata": {
  "celltoolbar": "Raw Cell Format",
  "kernelspec": {
   "display_name": "Python 3",
   "language": "python",
   "name": "python3"
  },
  "language_info": {
   "codemirror_mode": {
    "name": "ipython",
    "version": 3
   },
   "file_extension": ".py",
   "mimetype": "text/x-python",
   "name": "python",
   "nbconvert_exporter": "python",
   "pygments_lexer": "ipython3",
   "version": "3.6.6"
  }
 },
 "nbformat": 4,
 "nbformat_minor": 2
}
