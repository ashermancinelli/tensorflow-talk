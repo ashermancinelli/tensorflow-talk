{
 "cells": [
  {
   "cell_type": "markdown",
   "metadata": {
    "slideshow": {
     "slide_type": "slide"
    }
   },
   "source": [
    "<br>\n",
    "<center>\n",
    "    <h2>Neural Networks & Facial Recognition</h2>\n",
    "    <h3>Asher Mancinelli</h3>\n",
    "</center><br>"
   ]
  },
  {
   "cell_type": "markdown",
   "metadata": {
    "slideshow": {
     "slide_type": "slide"
    }
   },
   "source": [
    "## Who Am I?\n",
    "----------\n",
    "<br>\n",
    "<center>\n",
    "    Asher Mancinelli <br>\n",
    "    Whitworth University, 2020 <br>\n",
    "    BS Math, BS CS <br>\n",
    "    Machine Learning Consultant @ PNNL <br>\n",
    "</center>\n",
    "<br>"
   ]
  },
  {
   "cell_type": "markdown",
   "metadata": {
    "slideshow": {
     "slide_type": "slide"
    }
   },
   "source": [
    "## Goals\n",
    "--------------\n",
    "    - Understand motivation behind neural networks\n",
    "    - Understand theory behind them \n",
    "    - Understand implementation\n",
    "    - See some examples \n",
    "    - See how it's applied to facial recognition \n",
    "<br>"
   ]
  },
  {
   "cell_type": "markdown",
   "metadata": {
    "slideshow": {
     "slide_type": "slide"
    }
   },
   "source": [
    "## Why Neural Networks \n",
    "-----\n",
    "- <u>Intractable Problem:</u> A problem that by its nature, is extremely difficut to cast in terms of the conventional, Von-Neumann computer architecture <br>\n",
    "- AKA problems we humans don't think much about, but are quite complex for computers. <br>\n",
    "    - Computer vision\n",
    "    - Facial recognition\n",
    "    - Fuzzy logic\n",
    "<br>"
   ]
  },
  {
   "cell_type": "markdown",
   "metadata": {
    "slideshow": {
     "slide_type": "slide"
    }
   },
   "source": [
    "## The Beginning\n",
    "---\n",
    "- <u>Perceptron:</u> Models a neuron, takes inputs and passes sum through activation function.\n",
    "- <u>Multilayer-perceptron:</u> Set of perceptrons all connected together, AKA a neural network\n",
    "- <u>Activation Function:</u> Function which scales the input into the interval [0, 1)"
   ]
  },
  {
   "cell_type": "markdown",
   "metadata": {
    "slideshow": {
     "slide_type": "slide"
    }
   },
   "source": [
    "## Biological Neuron\n",
    "---\n",
    "<center><img src=\"images/neuron.jpg\"></center>"
   ]
  },
  {
   "cell_type": "markdown",
   "metadata": {
    "slideshow": {
     "slide_type": "slide"
    }
   },
   "source": [
    "## Artificial Neuron\n",
    "---\n",
    "<center><img src=\"images/neuron-math.png\"></center>"
   ]
  },
  {
   "cell_type": "markdown",
   "metadata": {
    "slideshow": {
     "slide_type": "slide"
    }
   },
   "source": [
    "## Artificial Neuron\n",
    "---\n",
    "<center><img src=\"images/perceptron.png\"></center>"
   ]
  },
  {
   "cell_type": "markdown",
   "metadata": {
    "slideshow": {
     "slide_type": "slide"
    }
   },
   "source": [
    "## Activation Function\n",
    "---\n",
    "- Example activation function: \n",
    "<center><img src=\"images/sigmoid-relu.png\"></center>"
   ]
  },
  {
   "cell_type": "markdown",
   "metadata": {
    "slideshow": {
     "slide_type": "slide"
    }
   },
   "source": [
    "<center><h2>So how does all this come together?</h2></center>\n",
    "<br>"
   ]
  },
  {
   "cell_type": "markdown",
   "metadata": {
    "slideshow": {
     "slide_type": "slide"
    }
   },
   "source": [
    "## Neural Network\n",
    "---\n",
    "Let's hook some perceptrons together into a neural network... \n",
    "<br><br>\n",
    "<center><img src=\"images/sample-network.svg\"></center><br><br>"
   ]
  },
  {
   "cell_type": "markdown",
   "metadata": {
    "slideshow": {
     "slide_type": "slide"
    }
   },
   "source": [
    "## Neural Network\n",
    "---\n",
    "Add the weights...<br><br>\n",
    "<center><img src=\"images/nn-w1.svg\"></center><br><br>"
   ]
  },
  {
   "cell_type": "markdown",
   "metadata": {
    "slideshow": {
     "slide_type": "slide"
    }
   },
   "source": [
    "## Training Process\n",
    "---\n",
    "Feeding inputs through the network...<br><br>\n",
    "<center><img src=\"images/nn-w2.svg\"></center><br><br>"
   ]
  },
  {
   "cell_type": "markdown",
   "metadata": {
    "slideshow": {
     "slide_type": "slide"
    }
   },
   "source": [
    "## Training Process\n",
    "---\n",
    "<br><br>\n",
    "<center><img src=\"images/nn-w3.svg\"></center>\n",
    "<br><br>"
   ]
  },
  {
   "cell_type": "markdown",
   "metadata": {
    "slideshow": {
     "slide_type": "slide"
    }
   },
   "source": [
    "## Loss Function\n",
    "---\n",
    "<br><br>\n",
    "<center><img src=\"images/loss.svg\"></center>\n",
    "<br><br>"
   ]
  },
  {
   "cell_type": "markdown",
   "metadata": {
    "slideshow": {
     "slide_type": "slide"
    }
   },
   "source": [
    "## Adjusting the Network\n",
    "---\n",
    "- <u>Backpropagation:</u> Minimizing network error by comparing the actual output to the desired output, and making corrections to each node based on its contribution to the output.\n",
    "<br><br>"
   ]
  },
  {
   "cell_type": "markdown",
   "metadata": {
    "slideshow": {
     "slide_type": "slide"
    }
   },
   "source": [
    "## Adjusting the Network\n",
    "---\n",
    "<br><br>\n",
    "<center>But what does that really mean?</center>\n",
    "<br><br>"
   ]
  },
  {
   "cell_type": "markdown",
   "metadata": {},
   "source": []
  }
 ],
 "metadata": {
  "celltoolbar": "Slideshow",
  "kernelspec": {
   "display_name": "Python 3",
   "language": "python",
   "name": "python3"
  },
  "language_info": {
   "codemirror_mode": {
    "name": "ipython",
    "version": 3
   },
   "file_extension": ".py",
   "mimetype": "text/x-python",
   "name": "python",
   "nbconvert_exporter": "python",
   "pygments_lexer": "ipython3",
   "version": "3.6.6"
  }
 },
 "nbformat": 4,
 "nbformat_minor": 2
}
